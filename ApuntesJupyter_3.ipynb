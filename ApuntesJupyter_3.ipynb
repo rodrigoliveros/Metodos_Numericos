{
 "cells": [
  {
   "cell_type": "markdown",
   "id": "13e5c6a5",
   "metadata": {},
   "source": [
    "**Comenzamos a ver Metodos númericos en programación, comenzamos con el método cerrado**\n"
   ]
  },
  {
   "cell_type": "code",
   "execution_count": 25,
   "id": "065381a9",
   "metadata": {},
   "outputs": [],
   "source": [
    "from pylab import *\n",
    "def biseccion(a,b,f,error=0.05):\n",
    "    # a, b limites inferior y superior del intervalo\n",
    "    # función f(x). Resolvemos f(x) = 0\n",
    "    # máximo error permitido\n",
    "    i, xl, xr, xu, ea = 0, [a], [(a+b)/2], [b], [100]\n",
    "    while ea[i] > error:\n",
    "        if f(xl[i])*f(xr[i])<0: # Valuamos el valor i en la lista, se inicia con 0\n",
    "            xl.append(xl[i])\n",
    "            xu.append(xr[i])\n",
    "        elif(f(xu[i])*f(xr[i])<0):\n",
    "            xl.append(xr[i])\n",
    "            xu.append(xu[i])\n",
    "        else:\n",
    "            return(xr)\n",
    "        xr.append((xl[i+1]+xu[i+1])/2)\n",
    "        ea.append(abs((xr[i+1]-xr[i])/xr[i+1])*100)\n",
    "        i+=1\n",
    "    return xl, xr, xu, ea"
   ]
  },
  {
   "cell_type": "code",
   "execution_count": 31,
   "id": "f5da4524",
   "metadata": {},
   "outputs": [],
   "source": [
    "def f(x):\n",
    "    return exp(-x)-x"
   ]
  },
  {
   "cell_type": "code",
   "execution_count": 32,
   "id": "83ca0a74",
   "metadata": {},
   "outputs": [
    {
     "ename": "ValueError",
     "evalue": "not enough values to unpack (expected 4, got 1)",
     "output_type": "error",
     "traceback": [
      "\u001b[1;31m---------------------------------------------------------------------------\u001b[0m",
      "\u001b[1;31mValueError\u001b[0m                                Traceback (most recent call last)",
      "Cell \u001b[1;32mIn[32], line 1\u001b[0m\n\u001b[1;32m----> 1\u001b[0m xl, xr, xu, ea \u001b[38;5;241m=\u001b[39m biseccion(\u001b[38;5;241m1\u001b[39m,\u001b[38;5;241m4\u001b[39m,f)\n",
      "\u001b[1;31mValueError\u001b[0m: not enough values to unpack (expected 4, got 1)"
     ]
    }
   ],
   "source": [
    "xl, xr, xu, ea = biseccion(1,4,f)\n"
   ]
  },
  {
   "cell_type": "code",
   "execution_count": 33,
   "id": "946b6836",
   "metadata": {},
   "outputs": [
    {
     "data": {
      "text/html": [
       "<div>\n",
       "<style scoped>\n",
       "    .dataframe tbody tr th:only-of-type {\n",
       "        vertical-align: middle;\n",
       "    }\n",
       "\n",
       "    .dataframe tbody tr th {\n",
       "        vertical-align: top;\n",
       "    }\n",
       "\n",
       "    .dataframe thead th {\n",
       "        text-align: right;\n",
       "    }\n",
       "</style>\n",
       "<table border=\"1\" class=\"dataframe\">\n",
       "  <thead>\n",
       "    <tr style=\"text-align: right;\">\n",
       "      <th></th>\n",
       "      <th>xL</th>\n",
       "      <th>xr</th>\n",
       "      <th>xu</th>\n",
       "      <th>error</th>\n",
       "    </tr>\n",
       "  </thead>\n",
       "  <tbody>\n",
       "    <tr>\n",
       "      <th>0</th>\n",
       "      <td>1.000000</td>\n",
       "      <td>2.500000</td>\n",
       "      <td>4.000000</td>\n",
       "      <td>100.000000</td>\n",
       "    </tr>\n",
       "    <tr>\n",
       "      <th>1</th>\n",
       "      <td>1.000000</td>\n",
       "      <td>1.750000</td>\n",
       "      <td>2.500000</td>\n",
       "      <td>42.857143</td>\n",
       "    </tr>\n",
       "    <tr>\n",
       "      <th>2</th>\n",
       "      <td>1.750000</td>\n",
       "      <td>2.125000</td>\n",
       "      <td>2.500000</td>\n",
       "      <td>17.647059</td>\n",
       "    </tr>\n",
       "    <tr>\n",
       "      <th>3</th>\n",
       "      <td>1.750000</td>\n",
       "      <td>1.937500</td>\n",
       "      <td>2.125000</td>\n",
       "      <td>9.677419</td>\n",
       "    </tr>\n",
       "    <tr>\n",
       "      <th>4</th>\n",
       "      <td>1.937500</td>\n",
       "      <td>2.031250</td>\n",
       "      <td>2.125000</td>\n",
       "      <td>4.615385</td>\n",
       "    </tr>\n",
       "    <tr>\n",
       "      <th>5</th>\n",
       "      <td>2.031250</td>\n",
       "      <td>2.078125</td>\n",
       "      <td>2.125000</td>\n",
       "      <td>2.255639</td>\n",
       "    </tr>\n",
       "    <tr>\n",
       "      <th>6</th>\n",
       "      <td>2.078125</td>\n",
       "      <td>2.101562</td>\n",
       "      <td>2.125000</td>\n",
       "      <td>1.115242</td>\n",
       "    </tr>\n",
       "    <tr>\n",
       "      <th>7</th>\n",
       "      <td>2.078125</td>\n",
       "      <td>2.089844</td>\n",
       "      <td>2.101562</td>\n",
       "      <td>0.560748</td>\n",
       "    </tr>\n",
       "    <tr>\n",
       "      <th>8</th>\n",
       "      <td>2.089844</td>\n",
       "      <td>2.095703</td>\n",
       "      <td>2.101562</td>\n",
       "      <td>0.279590</td>\n",
       "    </tr>\n",
       "    <tr>\n",
       "      <th>9</th>\n",
       "      <td>2.089844</td>\n",
       "      <td>2.092773</td>\n",
       "      <td>2.095703</td>\n",
       "      <td>0.139991</td>\n",
       "    </tr>\n",
       "    <tr>\n",
       "      <th>10</th>\n",
       "      <td>2.092773</td>\n",
       "      <td>2.094238</td>\n",
       "      <td>2.095703</td>\n",
       "      <td>0.069946</td>\n",
       "    </tr>\n",
       "    <tr>\n",
       "      <th>11</th>\n",
       "      <td>2.094238</td>\n",
       "      <td>2.094971</td>\n",
       "      <td>2.095703</td>\n",
       "      <td>0.034961</td>\n",
       "    </tr>\n",
       "  </tbody>\n",
       "</table>\n",
       "</div>"
      ],
      "text/plain": [
       "          xL        xr        xu       error\n",
       "0   1.000000  2.500000  4.000000  100.000000\n",
       "1   1.000000  1.750000  2.500000   42.857143\n",
       "2   1.750000  2.125000  2.500000   17.647059\n",
       "3   1.750000  1.937500  2.125000    9.677419\n",
       "4   1.937500  2.031250  2.125000    4.615385\n",
       "5   2.031250  2.078125  2.125000    2.255639\n",
       "6   2.078125  2.101562  2.125000    1.115242\n",
       "7   2.078125  2.089844  2.101562    0.560748\n",
       "8   2.089844  2.095703  2.101562    0.279590\n",
       "9   2.089844  2.092773  2.095703    0.139991\n",
       "10  2.092773  2.094238  2.095703    0.069946\n",
       "11  2.094238  2.094971  2.095703    0.034961"
      ]
     },
     "execution_count": 33,
     "metadata": {},
     "output_type": "execute_result"
    }
   ],
   "source": [
    "import pandas as pd\n",
    "datos = {\"xL\": xl, \"xr\": xr, \"xu\": xu, \"error\": ea}\n",
    "pd.DataFrame(datos)"
   ]
  }
 ],
 "metadata": {
  "kernelspec": {
   "display_name": "Python 3",
   "language": "python",
   "name": "python3"
  },
  "language_info": {
   "codemirror_mode": {
    "name": "ipython",
    "version": 3
   },
   "file_extension": ".py",
   "mimetype": "text/x-python",
   "name": "python",
   "nbconvert_exporter": "python",
   "pygments_lexer": "ipython3",
   "version": "3.9.9"
  }
 },
 "nbformat": 4,
 "nbformat_minor": 5
}
