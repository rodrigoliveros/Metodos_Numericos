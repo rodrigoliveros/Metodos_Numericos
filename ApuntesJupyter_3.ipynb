{
 "cells": [
  {
   "cell_type": "markdown",
   "id": "13e5c6a5",
   "metadata": {},
   "source": [
    "**Comenzamos a ver Metodos númericos en programación, comenzamos con el método cerrado**\n"
   ]
  },
  {
   "cell_type": "code",
   "execution_count": 6,
   "id": "065381a9",
   "metadata": {},
   "outputs": [],
   "source": [
    "from pylab import *\n",
    "def biseccion(a,b,f,error =  0.05):\n",
    "    # a, b limites inferior y superior del intervalo\n",
    "    # función f(x). Resolvemos f(x) = 0\n",
    "    # máximo error permitido\n",
    "    i, xl, xr, xu, ea = 0, [a], [(a+b)/2], [b], [100]\n",
    "    while ea[i] > error:\n",
    "        if f(xl[i])*f(xr[i])<0: # Valuamos el valor i en la lista, se inicia con 0\n",
    "            xl.append(xl[i])\n",
    "            xu.append(xr[i])\n",
    "        elif(f(xu[i])*f(xr[i])<0):\n",
    "            xl.append(xr[i])\n",
    "            xu.append(xu[i])\n",
    "        else:\n",
    "            return(xr)\n",
    "        xr.append((xl[i+1]+xu[i+1])/2)\n",
    "        ea.append(abs((xr[i+1]-xr[i])/xr[i+1])*100)\n",
    "        i+=1\n",
    "    return xl, xr, xu, ea"
   ]
  },
  {
   "cell_type": "code",
   "execution_count": 7,
   "id": "f5da4524",
   "metadata": {},
   "outputs": [],
   "source": [
    "def f(x):\n",
    "    return exp(-x)-x"
   ]
  },
  {
   "cell_type": "code",
   "execution_count": 8,
   "id": "83ca0a74",
   "metadata": {},
   "outputs": [
    {
     "data": {
      "text/plain": [
       "([0,\n",
       "  0.5,\n",
       "  0.5,\n",
       "  0.5,\n",
       "  0.5625,\n",
       "  0.5625,\n",
       "  0.5625,\n",
       "  0.5625,\n",
       "  0.56640625,\n",
       "  0.56640625,\n",
       "  0.56640625,\n",
       "  0.56689453125],\n",
       " [0.5,\n",
       "  0.75,\n",
       "  0.625,\n",
       "  0.5625,\n",
       "  0.59375,\n",
       "  0.578125,\n",
       "  0.5703125,\n",
       "  0.56640625,\n",
       "  0.568359375,\n",
       "  0.5673828125,\n",
       "  0.56689453125,\n",
       "  0.567138671875],\n",
       " [1,\n",
       "  1,\n",
       "  0.75,\n",
       "  0.625,\n",
       "  0.625,\n",
       "  0.59375,\n",
       "  0.578125,\n",
       "  0.5703125,\n",
       "  0.5703125,\n",
       "  0.568359375,\n",
       "  0.5673828125,\n",
       "  0.5673828125],\n",
       " [100,\n",
       "  33.33333333333333,\n",
       "  20.0,\n",
       "  11.11111111111111,\n",
       "  5.263157894736842,\n",
       "  2.7027027027027026,\n",
       "  1.36986301369863,\n",
       "  0.6896551724137931,\n",
       "  0.3436426116838488,\n",
       "  0.17211703958691912,\n",
       "  0.08613264427217916,\n",
       "  0.04304778303917348])"
      ]
     },
     "execution_count": 8,
     "metadata": {},
     "output_type": "execute_result"
    }
   ],
   "source": [
    "biseccion(0,1,f)"
   ]
  }
 ],
 "metadata": {
  "kernelspec": {
   "display_name": "Python 3",
   "language": "python",
   "name": "python3"
  },
  "language_info": {
   "codemirror_mode": {
    "name": "ipython",
    "version": 3
   },
   "file_extension": ".py",
   "mimetype": "text/x-python",
   "name": "python",
   "nbconvert_exporter": "python",
   "pygments_lexer": "ipython3",
   "version": "3.9.9"
  }
 },
 "nbformat": 4,
 "nbformat_minor": 5
}
