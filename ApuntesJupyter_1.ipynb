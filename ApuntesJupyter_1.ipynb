{
 "cells": [
  {
   "cell_type": "markdown",
   "id": "ca7ca16d",
   "metadata": {},
   "source": [
    "## INTRODUCCIÓN A PYTHON Y MARKDOWN\n",
    "\n",
    "Markdown nos permite combinar texto (utilizando código html, latex o su propio código), con programación.\n",
    "Ctrl + Enter: Ejecuta casilla\n",
    "Ctrl + shift + Enter: Ejecuta y genera un nuevo markdown.\n"
   ]
  },
  {
   "cell_type": "markdown",
   "id": "dcd6a7b3",
   "metadata": {},
   "source": [
    "### Uso de latex\n",
    "    - Podemos escribir una integral\n",
    "        -Modo matemático\"$$\" \n",
    "        -Modo matemático centrado\"$$$$\"\n",
    "$$\\int_a^b f(x)$$\n",
    "\n",
    "    - Fracciones\n",
    "$$\\frac{x^2 + 1}{\\sqrt{x-3}}$$\n",
    "También podemos incluir código latex en el texto por ejemplo: El área de un círculo esta dada por $A = \\pi r^2$.\n"
   ]
  },
  {
   "cell_type": "markdown",
   "id": "57c1a330",
   "metadata": {},
   "source": [
    "En Markdown, los niveles de título se definen mediante la cantidad de numerales enfrente de ellos. \"##\" Titulo 2,\"###\" Titulo 3, etc.  \n",
    "Para incluir un salto de linea se deben de dar dos espacios luego de la ultima letra de la linea.  "
   ]
  },
  {
   "cell_type": "markdown",
   "id": "80a356d6",
   "metadata": {},
   "source": [
    "También podemos hacer listas:  \n",
    "\n",
    "    - Elemento 1\n",
    "        -Subelemento\n",
    "    - Elemento 2\n",
    "    - Elemento 3"
   ]
  },
  {
   "cell_type": "markdown",
   "id": "0b03c61c",
   "metadata": {},
   "source": [
    "### GENERACIÓN DE TABLAS  \n",
    "\n",
    "| Nombre | Edad | Estatura |  \n",
    "|:------:|:----:|:--------:|\n",
    "| Juan | 19 | 1.70 |\n",
    "| Pedro | 18 | 1.80 |\n",
    "| María | 20 | 1.65 |  \n",
    "\n",
    "Justificado de las tablas\n",
    "- Centrado \":-----:\"\n",
    "- A la izquierda \":-----\"\n",
    "- A la derecha \"-----:\"\n",
    "\n",
    "**TAMBIÉN PODEMOS ESCRIBIR EN NEGRITA AL UTILIZAR DOBLE ASTERISCO**"
   ]
  },
  {
   "cell_type": "code",
   "execution_count": 5,
   "id": "7d4fe35a",
   "metadata": {},
   "outputs": [],
   "source": [
    "# definir una lista en python\n",
    "a = []           # lista vacía\n",
    "b = [1,3,5,7]\n",
    "b                # Despliega la variable b\n",
    "c = 10\n",
    "d = \"Me gusta metodos numericos\"\n"
   ]
  },
  {
   "cell_type": "code",
   "execution_count": 6,
   "id": "498cb074",
   "metadata": {},
   "outputs": [
    {
     "name": "stdout",
     "output_type": "stream",
     "text": [
      "<class 'list'>\n",
      "<class 'int'>\n",
      "<class 'str'>\n"
     ]
    }
   ],
   "source": [
    "print(type(b)) # nos muestra el tipo de variable\n",
    "print(type(c)) # nos muestra el tipo de variable\n",
    "print(type(d)) # nos muestra el tipo de variable\n"
   ]
  },
  {
   "cell_type": "code",
   "execution_count": 7,
   "id": "e8f93cf2",
   "metadata": {},
   "outputs": [
    {
     "data": {
      "text/plain": [
       "100"
      ]
     },
     "execution_count": 7,
     "metadata": {},
     "output_type": "execute_result"
    }
   ],
   "source": [
    "# Linspace genera un arreglo con numero igual........\n",
    "#En este caso se le pide generar n cantidad de numeros entre el inicio y el final definidos por el tercer parametro\n",
    "from pylab import *\n",
    "x =  linspace(0,2*pi,100)\n",
    "x\n",
    "len(x)  # Nos dice el largo de un arreglo o lista"
   ]
  },
  {
   "cell_type": "code",
   "execution_count": 9,
   "id": "39c26bcc",
   "metadata": {},
   "outputs": [
    {
     "data": {
      "text/plain": [
       "array([0. , 0.1, 0.2, 0.3, 0.4, 0.5, 0.6, 0.7, 0.8, 0.9, 1. , 1.1, 1.2,\n",
       "       1.3, 1.4, 1.5, 1.6, 1.7, 1.8, 1.9, 2. , 2.1, 2.2, 2.3, 2.4, 2.5,\n",
       "       2.6, 2.7, 2.8, 2.9, 3. , 3.1, 3.2, 3.3, 3.4, 3.5, 3.6, 3.7, 3.8,\n",
       "       3.9, 4. , 4.1, 4.2, 4.3, 4.4, 4.5, 4.6, 4.7, 4.8, 4.9, 5. , 5.1,\n",
       "       5.2, 5.3, 5.4, 5.5, 5.6, 5.7, 5.8, 5.9, 6. , 6.1, 6.2])"
      ]
     },
     "execution_count": 9,
     "metadata": {},
     "output_type": "execute_result"
    }
   ],
   "source": [
    "#Genera una arreglo con un espacio determinado por el tercer parametro\n",
    "x2 = arange(0,2*pi,0.1)\n",
    "x2"
   ]
  },
  {
   "cell_type": "code",
   "execution_count": 11,
   "id": "a8f4236b",
   "metadata": {},
   "outputs": [
    {
     "name": "stdout",
     "output_type": "stream",
     "text": [
      "[0, 1, 2, 3, 4, 5, 6, 7, 8, 9]\n"
     ]
    }
   ],
   "source": [
    "# range nos muestra un listado solamente de enteros , tiene hasta tres parametros incluyendo inicio fin, y salto\n",
    "x3 = range(10)\n",
    "print(list(x3))"
   ]
  }
 ],
 "metadata": {
  "kernelspec": {
   "display_name": "Python 3",
   "language": "python",
   "name": "python3"
  },
  "language_info": {
   "codemirror_mode": {
    "name": "ipython",
    "version": 3
   },
   "file_extension": ".py",
   "mimetype": "text/x-python",
   "name": "python",
   "nbconvert_exporter": "python",
   "pygments_lexer": "ipython3",
   "version": "3.9.9"
  }
 },
 "nbformat": 4,
 "nbformat_minor": 5
}
