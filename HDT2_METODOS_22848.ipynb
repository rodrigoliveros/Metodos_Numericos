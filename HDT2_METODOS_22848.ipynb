{
 "cells": [
  {
   "cell_type": "markdown",
   "id": "b55598d7",
   "metadata": {},
   "source": [
    "#### Hoja de Trabajo No.2 \n",
    "#### Métodos Numericos 1\n",
    "#### José Rodrigo Oliveros González 22848"
   ]
  },
  {
   "cell_type": "markdown",
   "id": "e5bcfdac",
   "metadata": {},
   "source": [
    " Métodos Numéricos en Python"
   ]
  },
  {
   "cell_type": "markdown",
   "id": "31b51515",
   "metadata": {},
   "source": [
    "**Método de Bisección**"
   ]
  },
  {
   "cell_type": "code",
   "execution_count": 2,
   "id": "f43113f0",
   "metadata": {},
   "outputs": [],
   "source": [
    "from pylab import *\n",
    "import pandas as pd\n",
    "def biseccion(a,b,f, max_iter = 100, modo_salida = 1,error =  0.05):\n",
    "    # a, b limites inferior y superior del intervalo\n",
    "    # función f(x). Resolvemos f(x) = 0\n",
    "    # máximo error permitido\n",
    "    i, xl, xr, xu, ea = 0, [a], [(a+b)/2], [b], [100]   # iteraciones, limites inferiores, puntos medios, limites superiores, error, tipo\n",
    "    while ea[i] > error and i < max_iter:\n",
    "        if f(xl[i])*f(xr[i])<0: # Si la raíz esta en el intervalo inferior (-)*(+) = (-)\n",
    "            xl.append(xl[i])    # Mantenemos el limite inferior actual\n",
    "            xu.append(xr[i])    # El nuevo límite superior es el actual punto medio.\n",
    "        elif(f(xu[i])*f(xr[i])<0): # Si la raíz esta en el intervalo superior (-)*(+) = (-)\n",
    "            xl.append(xr[i])    # El nuevo limite inferior es el punto medio\n",
    "            xu.append(xu[i])    # Mantenemos el límite superior actual.\n",
    "        else:\n",
    "            return(xr)          # Posible raíz o error\n",
    "        xr.append((xl[i+1]+xu[i+1])/2) # Nuevo punto medio, calculado con los nuevos xl y xu, estos pueden tener el mismo valor que el anteior en caso se copiaran.\n",
    "        ea.append(abs((xr[i+1]-xr[i])/xr[i+1])*100) # Error relativo, (si ya no cambia mucho puede que estemos en la solución)\n",
    "        i+=1\n",
    "    if modo_salida == 1:\n",
    "        return {\"xL\": xl, \"xr\": xr, \"xu\": xu, \"error\": ea}\n",
    "    elif modo_salida == 2:\n",
    "        return {\"solucion\": xr[-1], \"iteraciones\": i}\n",
    "    elif modo_salida == 3:\n",
    "        return {\"solucion\": xr[-1]}\n",
    "    else:\n",
    "        raise ValueError(\"modo_salida debe ser 1, 2 o 3.\")\n",
    "f = lambda x: x**3 - 2*x - 5"
   ]
  },
  {
   "cell_type": "markdown",
   "id": "439fb9a4",
   "metadata": {},
   "source": [
    "**Modo 1, bisección**"
   ]
  },
  {
   "cell_type": "code",
   "execution_count": 3,
   "id": "178102f1",
   "metadata": {},
   "outputs": [
    {
     "name": "stdout",
     "output_type": "stream",
     "text": [
      "Resultado Modo 1\n",
      "\n"
     ]
    },
    {
     "data": {
      "text/html": [
       "<div>\n",
       "<style scoped>\n",
       "    .dataframe tbody tr th:only-of-type {\n",
       "        vertical-align: middle;\n",
       "    }\n",
       "\n",
       "    .dataframe tbody tr th {\n",
       "        vertical-align: top;\n",
       "    }\n",
       "\n",
       "    .dataframe thead th {\n",
       "        text-align: right;\n",
       "    }\n",
       "</style>\n",
       "<table border=\"1\" class=\"dataframe\">\n",
       "  <thead>\n",
       "    <tr style=\"text-align: right;\">\n",
       "      <th></th>\n",
       "      <th>xL</th>\n",
       "      <th>xr</th>\n",
       "      <th>xu</th>\n",
       "      <th>error</th>\n",
       "    </tr>\n",
       "  </thead>\n",
       "  <tbody>\n",
       "    <tr>\n",
       "      <th>0</th>\n",
       "      <td>1.000000</td>\n",
       "      <td>2.500000</td>\n",
       "      <td>4.000000</td>\n",
       "      <td>100.000000</td>\n",
       "    </tr>\n",
       "    <tr>\n",
       "      <th>1</th>\n",
       "      <td>1.000000</td>\n",
       "      <td>1.750000</td>\n",
       "      <td>2.500000</td>\n",
       "      <td>42.857143</td>\n",
       "    </tr>\n",
       "    <tr>\n",
       "      <th>2</th>\n",
       "      <td>1.750000</td>\n",
       "      <td>2.125000</td>\n",
       "      <td>2.500000</td>\n",
       "      <td>17.647059</td>\n",
       "    </tr>\n",
       "    <tr>\n",
       "      <th>3</th>\n",
       "      <td>1.750000</td>\n",
       "      <td>1.937500</td>\n",
       "      <td>2.125000</td>\n",
       "      <td>9.677419</td>\n",
       "    </tr>\n",
       "    <tr>\n",
       "      <th>4</th>\n",
       "      <td>1.937500</td>\n",
       "      <td>2.031250</td>\n",
       "      <td>2.125000</td>\n",
       "      <td>4.615385</td>\n",
       "    </tr>\n",
       "    <tr>\n",
       "      <th>5</th>\n",
       "      <td>2.031250</td>\n",
       "      <td>2.078125</td>\n",
       "      <td>2.125000</td>\n",
       "      <td>2.255639</td>\n",
       "    </tr>\n",
       "    <tr>\n",
       "      <th>6</th>\n",
       "      <td>2.078125</td>\n",
       "      <td>2.101562</td>\n",
       "      <td>2.125000</td>\n",
       "      <td>1.115242</td>\n",
       "    </tr>\n",
       "    <tr>\n",
       "      <th>7</th>\n",
       "      <td>2.078125</td>\n",
       "      <td>2.089844</td>\n",
       "      <td>2.101562</td>\n",
       "      <td>0.560748</td>\n",
       "    </tr>\n",
       "    <tr>\n",
       "      <th>8</th>\n",
       "      <td>2.089844</td>\n",
       "      <td>2.095703</td>\n",
       "      <td>2.101562</td>\n",
       "      <td>0.279590</td>\n",
       "    </tr>\n",
       "    <tr>\n",
       "      <th>9</th>\n",
       "      <td>2.089844</td>\n",
       "      <td>2.092773</td>\n",
       "      <td>2.095703</td>\n",
       "      <td>0.139991</td>\n",
       "    </tr>\n",
       "    <tr>\n",
       "      <th>10</th>\n",
       "      <td>2.092773</td>\n",
       "      <td>2.094238</td>\n",
       "      <td>2.095703</td>\n",
       "      <td>0.069946</td>\n",
       "    </tr>\n",
       "    <tr>\n",
       "      <th>11</th>\n",
       "      <td>2.094238</td>\n",
       "      <td>2.094971</td>\n",
       "      <td>2.095703</td>\n",
       "      <td>0.034961</td>\n",
       "    </tr>\n",
       "  </tbody>\n",
       "</table>\n",
       "</div>"
      ],
      "text/plain": [
       "          xL        xr        xu       error\n",
       "0   1.000000  2.500000  4.000000  100.000000\n",
       "1   1.000000  1.750000  2.500000   42.857143\n",
       "2   1.750000  2.125000  2.500000   17.647059\n",
       "3   1.750000  1.937500  2.125000    9.677419\n",
       "4   1.937500  2.031250  2.125000    4.615385\n",
       "5   2.031250  2.078125  2.125000    2.255639\n",
       "6   2.078125  2.101562  2.125000    1.115242\n",
       "7   2.078125  2.089844  2.101562    0.560748\n",
       "8   2.089844  2.095703  2.101562    0.279590\n",
       "9   2.089844  2.092773  2.095703    0.139991\n",
       "10  2.092773  2.094238  2.095703    0.069946\n",
       "11  2.094238  2.094971  2.095703    0.034961"
      ]
     },
     "execution_count": 3,
     "metadata": {},
     "output_type": "execute_result"
    }
   ],
   "source": [
    "print(\"Resultado Modo 1\\n\")\n",
    "resultado1 = biseccion(1,4,f,max_iter=100, modo_salida=1)\n",
    "pd.DataFrame(resultado1)"
   ]
  },
  {
   "cell_type": "markdown",
   "id": "afbace21",
   "metadata": {},
   "source": [
    "**Modo 2, bisección**"
   ]
  },
  {
   "cell_type": "code",
   "execution_count": 4,
   "id": "ccc32114",
   "metadata": {},
   "outputs": [
    {
     "name": "stdout",
     "output_type": "stream",
     "text": [
      "Resultado Modo 2\n",
      "\n",
      "Solución: 2.0950, Iteraciones: 11\n"
     ]
    }
   ],
   "source": [
    "print(\"Resultado Modo 2\\n\")\n",
    "resultado2 = biseccion(1,4,f,max_iter=100, modo_salida=2)\n",
    "print(f\"Solución: {resultado2['solucion']:.4f}, Iteraciones: {resultado2['iteraciones']}\")"
   ]
  },
  {
   "cell_type": "markdown",
   "id": "4f4f45e2",
   "metadata": {},
   "source": [
    "**Modo 3, bisección**"
   ]
  },
  {
   "cell_type": "code",
   "execution_count": 5,
   "id": "76e9e5ab",
   "metadata": {},
   "outputs": [
    {
     "name": "stdout",
     "output_type": "stream",
     "text": [
      "Resultado Modo 3\n",
      "\n",
      "Solución: 2.0950\n"
     ]
    }
   ],
   "source": [
    "print(\"Resultado Modo 3\\n\")\n",
    "resultado3 = biseccion(1,4,f,max_iter=100, modo_salida=3)\n",
    "print(f\"Solución: {resultado3['solucion']:.4f}\")"
   ]
  },
  {
   "cell_type": "markdown",
   "id": "f8443885",
   "metadata": {},
   "source": [
    "**Método de falsa posición**"
   ]
  },
  {
   "cell_type": "code",
   "execution_count": 6,
   "id": "50509086",
   "metadata": {},
   "outputs": [],
   "source": [
    "from pylab import *\n",
    "def falsa_posicion(a,b,f,max_iter = 100, modo_salida = 1, error =  0.05):\n",
    "    m = (f(b)-f(a))/(b-a)\n",
    "    # a, b limites inferior y superior del intervalo\n",
    "    # función f(x). Resolvemos f(x) = 0\n",
    "    # máximo error permitido\n",
    "    xri = a - f(a)/m\n",
    "    i, xl, xr, xu, ea = 0, [a], [xri], [b], [100]# iteraciones, limites inferiores, puntos medios, limites superiores, error\n",
    "    while ea[i] > error and i < max_iter:\n",
    "        if f(xl[i])*f(xr[i])<0:\n",
    "            xl.append(xl[i])\n",
    "            xu.append(xr[i])\n",
    "        elif(f(xu[i])*f(xr[i])<0):\n",
    "            xl.append(xr[i])\n",
    "            xu.append(xu[i])\n",
    "        else:\n",
    "            return(xr)\n",
    "        #Se redefinen las variables para acortar el rango, como ya hicimos un append hacemos uno nuevo\n",
    "        m = (f(xu[i+1])-f(xl[i+1]))/(xu[i+1]-xl[i+1])\n",
    "        xri = xl[i+1] - f(xl[i+1])/m\n",
    "        xr.append(xri)\n",
    "        ea.append(abs((xr[i+1]-xr[i])/xr[i+1])*100)\n",
    "        i+=1\n",
    "    if modo_salida == 1:\n",
    "        return {\"xL\": xl, \"xr\": xr, \"xu\": xu, \"error\": ea}\n",
    "    elif modo_salida == 2:\n",
    "        return {\"solucion\": xr[-1], \"iteraciones\": i}\n",
    "    elif modo_salida == 3:\n",
    "        return {\"solucion\": xr[-1]}\n",
    "    else:\n",
    "        raise ValueError(\"modo_salida debe ser 1, 2 o 3.\")\n",
    "f = lambda x: x**3 - 2*x - 5"
   ]
  },
  {
   "cell_type": "markdown",
   "id": "703322eb",
   "metadata": {},
   "source": [
    "**Modo 1, falsa posición**"
   ]
  },
  {
   "cell_type": "code",
   "execution_count": 7,
   "id": "38e26ab5",
   "metadata": {},
   "outputs": [
    {
     "name": "stdout",
     "output_type": "stream",
     "text": [
      "Resultado Modo 1\n",
      "\n"
     ]
    },
    {
     "data": {
      "text/html": [
       "<div>\n",
       "<style scoped>\n",
       "    .dataframe tbody tr th:only-of-type {\n",
       "        vertical-align: middle;\n",
       "    }\n",
       "\n",
       "    .dataframe tbody tr th {\n",
       "        vertical-align: top;\n",
       "    }\n",
       "\n",
       "    .dataframe thead th {\n",
       "        text-align: right;\n",
       "    }\n",
       "</style>\n",
       "<table border=\"1\" class=\"dataframe\">\n",
       "  <thead>\n",
       "    <tr style=\"text-align: right;\">\n",
       "      <th></th>\n",
       "      <th>xL</th>\n",
       "      <th>xr</th>\n",
       "      <th>xu</th>\n",
       "      <th>error</th>\n",
       "    </tr>\n",
       "  </thead>\n",
       "  <tbody>\n",
       "    <tr>\n",
       "      <th>0</th>\n",
       "      <td>1.000000</td>\n",
       "      <td>1.315789</td>\n",
       "      <td>4</td>\n",
       "      <td>100.000000</td>\n",
       "    </tr>\n",
       "    <tr>\n",
       "      <th>1</th>\n",
       "      <td>1.315789</td>\n",
       "      <td>1.570788</td>\n",
       "      <td>4</td>\n",
       "      <td>16.233781</td>\n",
       "    </tr>\n",
       "    <tr>\n",
       "      <th>2</th>\n",
       "      <td>1.570788</td>\n",
       "      <td>1.758293</td>\n",
       "      <td>4</td>\n",
       "      <td>10.664077</td>\n",
       "    </tr>\n",
       "    <tr>\n",
       "      <th>3</th>\n",
       "      <td>1.758293</td>\n",
       "      <td>1.885990</td>\n",
       "      <td>4</td>\n",
       "      <td>6.770805</td>\n",
       "    </tr>\n",
       "    <tr>\n",
       "      <th>4</th>\n",
       "      <td>1.885990</td>\n",
       "      <td>1.968202</td>\n",
       "      <td>4</td>\n",
       "      <td>4.176998</td>\n",
       "    </tr>\n",
       "    <tr>\n",
       "      <th>5</th>\n",
       "      <td>1.968202</td>\n",
       "      <td>2.019158</td>\n",
       "      <td>4</td>\n",
       "      <td>2.523628</td>\n",
       "    </tr>\n",
       "    <tr>\n",
       "      <th>6</th>\n",
       "      <td>2.019158</td>\n",
       "      <td>2.049984</td>\n",
       "      <td>4</td>\n",
       "      <td>1.503718</td>\n",
       "    </tr>\n",
       "    <tr>\n",
       "      <th>7</th>\n",
       "      <td>2.049984</td>\n",
       "      <td>2.068355</td>\n",
       "      <td>4</td>\n",
       "      <td>0.888207</td>\n",
       "    </tr>\n",
       "    <tr>\n",
       "      <th>8</th>\n",
       "      <td>2.068355</td>\n",
       "      <td>2.079206</td>\n",
       "      <td>4</td>\n",
       "      <td>0.521852</td>\n",
       "    </tr>\n",
       "    <tr>\n",
       "      <th>9</th>\n",
       "      <td>2.079206</td>\n",
       "      <td>2.085580</td>\n",
       "      <td>4</td>\n",
       "      <td>0.305628</td>\n",
       "    </tr>\n",
       "    <tr>\n",
       "      <th>10</th>\n",
       "      <td>2.085580</td>\n",
       "      <td>2.089312</td>\n",
       "      <td>4</td>\n",
       "      <td>0.178656</td>\n",
       "    </tr>\n",
       "    <tr>\n",
       "      <th>11</th>\n",
       "      <td>2.089312</td>\n",
       "      <td>2.091494</td>\n",
       "      <td>4</td>\n",
       "      <td>0.104318</td>\n",
       "    </tr>\n",
       "    <tr>\n",
       "      <th>12</th>\n",
       "      <td>2.091494</td>\n",
       "      <td>2.092768</td>\n",
       "      <td>4</td>\n",
       "      <td>0.060872</td>\n",
       "    </tr>\n",
       "    <tr>\n",
       "      <th>13</th>\n",
       "      <td>2.092768</td>\n",
       "      <td>2.093511</td>\n",
       "      <td>4</td>\n",
       "      <td>0.035507</td>\n",
       "    </tr>\n",
       "  </tbody>\n",
       "</table>\n",
       "</div>"
      ],
      "text/plain": [
       "          xL        xr  xu       error\n",
       "0   1.000000  1.315789   4  100.000000\n",
       "1   1.315789  1.570788   4   16.233781\n",
       "2   1.570788  1.758293   4   10.664077\n",
       "3   1.758293  1.885990   4    6.770805\n",
       "4   1.885990  1.968202   4    4.176998\n",
       "5   1.968202  2.019158   4    2.523628\n",
       "6   2.019158  2.049984   4    1.503718\n",
       "7   2.049984  2.068355   4    0.888207\n",
       "8   2.068355  2.079206   4    0.521852\n",
       "9   2.079206  2.085580   4    0.305628\n",
       "10  2.085580  2.089312   4    0.178656\n",
       "11  2.089312  2.091494   4    0.104318\n",
       "12  2.091494  2.092768   4    0.060872\n",
       "13  2.092768  2.093511   4    0.035507"
      ]
     },
     "execution_count": 7,
     "metadata": {},
     "output_type": "execute_result"
    }
   ],
   "source": [
    "print(\"Resultado Modo 1\\n\")\n",
    "resultado1 = falsa_posicion(1,4,f,max_iter=100, modo_salida=1)\n",
    "pd.DataFrame(resultado1)"
   ]
  },
  {
   "cell_type": "markdown",
   "id": "d35c1647",
   "metadata": {},
   "source": [
    "**Modo 2, falsa posición**"
   ]
  },
  {
   "cell_type": "code",
   "execution_count": 8,
   "id": "623c0ebf",
   "metadata": {},
   "outputs": [
    {
     "name": "stdout",
     "output_type": "stream",
     "text": [
      "Resultado Modo 2\n",
      "\n",
      "Solución: 2.0935, Iteraciones: 13\n"
     ]
    }
   ],
   "source": [
    "print(\"Resultado Modo 2\\n\")\n",
    "resultado2 = falsa_posicion(1,4,f,max_iter=100, modo_salida=2)\n",
    "print(f\"Solución: {resultado2['solucion']:.4f}, Iteraciones: {resultado2['iteraciones']}\")"
   ]
  },
  {
   "cell_type": "markdown",
   "id": "a6bdb89b",
   "metadata": {},
   "source": [
    "**Modo 3, falsa posición**"
   ]
  },
  {
   "cell_type": "code",
   "execution_count": 9,
   "id": "8de67173",
   "metadata": {},
   "outputs": [
    {
     "name": "stdout",
     "output_type": "stream",
     "text": [
      "Resultado Modo 3\n",
      "\n",
      "Solución: 2.0935\n"
     ]
    }
   ],
   "source": [
    "print(\"Resultado Modo 3\\n\")\n",
    "resultado3 = falsa_posicion(1,4,f,max_iter=100, modo_salida=3)\n",
    "print(f\"Solución: {resultado3['solucion']:.4f}\")"
   ]
  },
  {
   "cell_type": "markdown",
   "id": "b1dfaebe",
   "metadata": {},
   "source": [
    "**Método de Newton-Raphson**"
   ]
  },
  {
   "cell_type": "code",
   "execution_count": 10,
   "id": "700449e9",
   "metadata": {},
   "outputs": [],
   "source": [
    "from sympy import symbols, diff, lambdify\n",
    "import pandas as pd\n",
    "\n",
    "def NewtonR(x0, f,max_iter=100,modo_salida =  1, error=0.05):\n",
    "    # Uso de sympy para derivadas.\n",
    "    x = symbols('x')\n",
    "    f_temp = eval(f)  # Convierte el string a expresión simbólica, temporal\n",
    "    df_temp= diff(f_temp, x)  # Derivada simbólica, temporal\n",
    "    # Convertimos para que sea compatible con numeros complejos.\n",
    "    f = lambdify(x, f_temp, modules=['numpy'])\n",
    "    df = lambdify(x, df_temp, modules=['numpy'])\n",
    "    \n",
    "    i, xr, ea = 0, [x0], [100]\n",
    "    \n",
    "    while ea[i] > error and i < max_iter:\n",
    "        xr.append(xr[i] - f(xr[i]) / df(xr[i])) \n",
    "        ea.append(abs(xr[i+1] - xr[i]) / abs(xr[i+1]) * 100) # Módulo complejo\n",
    "        i += 1\n",
    "    # Modos de salida\n",
    "    if modo_salida == 1:\n",
    "        return {\"xr\": xr, \"error (%)\": ea}\n",
    "    elif modo_salida == 2:\n",
    "        return {\"solucion\": xr[-1], \"iteraciones\": i}\n",
    "    elif modo_salida == 3:\n",
    "        return {\"solucion\": xr[-1]}\n",
    "    else:\n",
    "        raise ValueError(\"modo_salida debe ser 1, 2 o 3.\")\n",
    "f = \"x**3 - 1\" # Esta función es un string porque hacerlo con lambda para este caso es más complicado, y a veces produce errores.\n"
   ]
  },
  {
   "cell_type": "markdown",
   "id": "458b7bd1",
   "metadata": {},
   "source": [
    "**Modo 1, Newton-Raphson**"
   ]
  },
  {
   "cell_type": "code",
   "execution_count": 11,
   "id": "092f9979",
   "metadata": {},
   "outputs": [
    {
     "name": "stdout",
     "output_type": "stream",
     "text": [
      "Resultado Modo 1\n",
      "\n"
     ]
    },
    {
     "data": {
      "text/html": [
       "<div>\n",
       "<style scoped>\n",
       "    .dataframe tbody tr th:only-of-type {\n",
       "        vertical-align: middle;\n",
       "    }\n",
       "\n",
       "    .dataframe tbody tr th {\n",
       "        vertical-align: top;\n",
       "    }\n",
       "\n",
       "    .dataframe thead th {\n",
       "        text-align: right;\n",
       "    }\n",
       "</style>\n",
       "<table border=\"1\" class=\"dataframe\">\n",
       "  <thead>\n",
       "    <tr style=\"text-align: right;\">\n",
       "      <th></th>\n",
       "      <th>xr</th>\n",
       "      <th>error (%)</th>\n",
       "    </tr>\n",
       "  </thead>\n",
       "  <tbody>\n",
       "    <tr>\n",
       "      <th>0</th>\n",
       "      <td>2.000000</td>\n",
       "      <td>100.000000</td>\n",
       "    </tr>\n",
       "    <tr>\n",
       "      <th>1</th>\n",
       "      <td>1.416667</td>\n",
       "      <td>41.176471</td>\n",
       "    </tr>\n",
       "    <tr>\n",
       "      <th>2</th>\n",
       "      <td>1.110534</td>\n",
       "      <td>27.566211</td>\n",
       "    </tr>\n",
       "    <tr>\n",
       "      <th>3</th>\n",
       "      <td>1.010637</td>\n",
       "      <td>9.884624</td>\n",
       "    </tr>\n",
       "    <tr>\n",
       "      <th>4</th>\n",
       "      <td>1.000112</td>\n",
       "      <td>1.052404</td>\n",
       "    </tr>\n",
       "    <tr>\n",
       "      <th>5</th>\n",
       "      <td>1.000000</td>\n",
       "      <td>0.011154</td>\n",
       "    </tr>\n",
       "  </tbody>\n",
       "</table>\n",
       "</div>"
      ],
      "text/plain": [
       "         xr   error (%)\n",
       "0  2.000000  100.000000\n",
       "1  1.416667   41.176471\n",
       "2  1.110534   27.566211\n",
       "3  1.010637    9.884624\n",
       "4  1.000112    1.052404\n",
       "5  1.000000    0.011154"
      ]
     },
     "execution_count": 11,
     "metadata": {},
     "output_type": "execute_result"
    }
   ],
   "source": [
    "x0 = 2  # Valor inicial real\n",
    "print(\"Resultado Modo 1\\n\")\n",
    "resultados = NewtonR(x0,f,100,1)\n",
    "pd.DataFrame(resultados)"
   ]
  },
  {
   "cell_type": "markdown",
   "id": "c0c71e4e",
   "metadata": {},
   "source": [
    "**Modo 2, Newton-Raphson**"
   ]
  },
  {
   "cell_type": "code",
   "execution_count": 12,
   "id": "be6d8194",
   "metadata": {},
   "outputs": [
    {
     "name": "stdout",
     "output_type": "stream",
     "text": [
      "Resultado Modo 2\n",
      "\n",
      "Solución: 1.0000, Iteraciones: 5\n"
     ]
    }
   ],
   "source": [
    "x0 = 2  # Valor inicial real\n",
    "print(\"Resultado Modo 2\\n\")\n",
    "resultados = NewtonR(x0,f,100,2)\n",
    "print(f\"Solución: {resultados['solucion']:.4f}, Iteraciones: {resultados['iteraciones']}\")"
   ]
  },
  {
   "cell_type": "markdown",
   "id": "2250aa3f",
   "metadata": {},
   "source": [
    "**Modo 3, Newton-Raphson**"
   ]
  },
  {
   "cell_type": "code",
   "execution_count": 13,
   "id": "6fd5a8a8",
   "metadata": {},
   "outputs": [
    {
     "name": "stdout",
     "output_type": "stream",
     "text": [
      "Resultado Modo 3\n",
      "\n",
      "Solución: 1.0000\n"
     ]
    }
   ],
   "source": [
    "x0 = 2  # Valor inicial real\n",
    "print(\"Resultado Modo 3\\n\")\n",
    "resultados = NewtonR(x0,f,100,3)\n",
    "print(f\"Solución: {resultados['solucion']:.4f}\")"
   ]
  },
  {
   "cell_type": "markdown",
   "id": "cded4fdd",
   "metadata": {},
   "source": [
    "**Modo 1, Newton-Raphson, Valor inicial complejo**"
   ]
  },
  {
   "cell_type": "code",
   "execution_count": 14,
   "id": "6cfca53d",
   "metadata": {},
   "outputs": [
    {
     "data": {
      "text/html": [
       "<div>\n",
       "<style scoped>\n",
       "    .dataframe tbody tr th:only-of-type {\n",
       "        vertical-align: middle;\n",
       "    }\n",
       "\n",
       "    .dataframe tbody tr th {\n",
       "        vertical-align: top;\n",
       "    }\n",
       "\n",
       "    .dataframe thead th {\n",
       "        text-align: right;\n",
       "    }\n",
       "</style>\n",
       "<table border=\"1\" class=\"dataframe\">\n",
       "  <thead>\n",
       "    <tr style=\"text-align: right;\">\n",
       "      <th></th>\n",
       "      <th>xr</th>\n",
       "      <th>error (%)</th>\n",
       "    </tr>\n",
       "  </thead>\n",
       "  <tbody>\n",
       "    <tr>\n",
       "      <th>0</th>\n",
       "      <td>-0.500000+1.000000j</td>\n",
       "      <td>100.000000</td>\n",
       "    </tr>\n",
       "    <tr>\n",
       "      <th>1</th>\n",
       "      <td>-0.493333+0.880000j</td>\n",
       "      <td>11.913077</td>\n",
       "    </tr>\n",
       "    <tr>\n",
       "      <th>2</th>\n",
       "      <td>-0.499767+0.866066j</td>\n",
       "      <td>1.534834</td>\n",
       "    </tr>\n",
       "    <tr>\n",
       "      <th>3</th>\n",
       "      <td>-0.500000+0.866025j</td>\n",
       "      <td>0.023695</td>\n",
       "    </tr>\n",
       "  </tbody>\n",
       "</table>\n",
       "</div>"
      ],
      "text/plain": [
       "                   xr   error (%)\n",
       "0 -0.500000+1.000000j  100.000000\n",
       "1 -0.493333+0.880000j   11.913077\n",
       "2 -0.499767+0.866066j    1.534834\n",
       "3 -0.500000+0.866025j    0.023695"
      ]
     },
     "execution_count": 14,
     "metadata": {},
     "output_type": "execute_result"
    }
   ],
   "source": [
    "x0 = -0.5+1j  # Valor inicial complejo\n",
    "resultados = NewtonR(x0,f,100,1)\n",
    "pd.DataFrame(resultados)"
   ]
  }
 ],
 "metadata": {
  "kernelspec": {
   "display_name": "base",
   "language": "python",
   "name": "python3"
  },
  "language_info": {
   "codemirror_mode": {
    "name": "ipython",
    "version": 3
   },
   "file_extension": ".py",
   "mimetype": "text/x-python",
   "name": "python",
   "nbconvert_exporter": "python",
   "pygments_lexer": "ipython3",
   "version": "3.13.5"
  }
 },
 "nbformat": 4,
 "nbformat_minor": 5
}
