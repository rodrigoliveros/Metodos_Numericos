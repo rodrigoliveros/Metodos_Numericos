{
 "cells": [
  {
   "cell_type": "markdown",
   "id": "20b9cb90",
   "metadata": {},
   "source": [
    "#### Hoja de Trabajo No.1 \n",
    "#### Métodos Numericos 1\n",
    "#### José Rodrigo Oliveros González 22848"
   ]
  },
  {
   "cell_type": "markdown",
   "id": "746ec2f8",
   "metadata": {},
   "source": [
    "**Adivina el numero** \n",
    "\n",
    "Ingresa un numero n, este sera utilizado para generar un numero aleatorio entre 1 y n. Tu tarea es adivinarlo, ingresalo en la opción debajo ¡buena suerte!\n"
   ]
  },
  {
   "cell_type": "code",
   "execution_count": 3,
   "id": "907a88f3",
   "metadata": {},
   "outputs": [
    {
     "name": "stdout",
     "output_type": "stream",
     "text": [
      "Incorrecto, sigue intentando\n",
      "Felicidades, el número era 2\n"
     ]
    }
   ],
   "source": [
    "## LIBRERIAS\n",
    "import random\n",
    "## FUNCIONES\n",
    "def akinator(N):\n",
    "    # Generamos la seleccion aleatoria\n",
    "    return random.randint(1,N)\n",
    "def comparar():\n",
    "    while True:\n",
    "        try:\n",
    "            A = int(input( \"Ingresa tu suposición: \\n\"))\n",
    "            if A <= 0:\n",
    "                print(\"El valor debe de ser un número positivo mayor a 0\")\n",
    "            else:\n",
    "                return A\n",
    "        except ValueError:\n",
    "            print(\"Por favor, ingresa un número válido\")\n",
    "## main\n",
    "while True:\n",
    "    try:\n",
    "        N = int(input( \"Ingresa un numero: \\n\"))\n",
    "        if N <= 0:\n",
    "            print(\"El valor debe de ser un número positivo mayor a 0\")\n",
    "        else:\n",
    "            break\n",
    "    except ValueError:\n",
    "        print(\"Por favor, ingresa un número válido\")\n",
    "resultado = akinator(N)\n",
    "while True:\n",
    "    suposicion = comparar()\n",
    "    if suposicion == resultado:\n",
    "        print(f\"Felicidades, el número era {suposicion}\")\n",
    "        break\n",
    "    else:\n",
    "        print(\"Incorrecto, sigue intentando\")\n",
    "    "
   ]
  },
  {
   "cell_type": "markdown",
   "id": "7da7d72a",
   "metadata": {},
   "source": [
    "**Escribir una función que devuelva la suma de todos los divisores de un número n, con esa función encontrar m numeros perfectos**"
   ]
  },
  {
   "cell_type": "code",
   "execution_count": 26,
   "id": "0a98a164",
   "metadata": {},
   "outputs": [
    {
     "name": "stdout",
     "output_type": "stream",
     "text": [
      "Estos son los m numeros perfectos encontrados:\n",
      "6\n",
      "28\n",
      "La suma de los divisores de n sin incluirlo es:\n",
      "7\n"
     ]
    }
   ],
   "source": [
    "def suma_divisores(n): # Suma de todos los divisores de un numero n sin incluirlo\n",
    "    if n == 1:\n",
    "        return 0\n",
    "    if n == 0:\n",
    "        return 0\n",
    "    suma = 1 # Agregamos de una vez\n",
    "    for i in range(2, n):\n",
    "        if n % i == 0:\n",
    "            suma += i\n",
    "    return suma\n",
    "def numeros_perfectos(m): # Encontrar m numeros perfectos.\n",
    "    counter = 0\n",
    "    numero = 6\n",
    "    while counter < m:\n",
    "        if suma_divisores(numero) == numero:\n",
    "            print(numero)\n",
    "            counter += 1\n",
    "        numero += 1\n",
    "print(f\"Estos son los m numeros perfectos encontrados:\")\n",
    "divisores = suma_divisores(8)\n",
    "perfectos = numeros_perfectos(2)\n",
    "print(f\"La suma de los divisores de n sin incluirlo es:\")\n",
    "print(divisores)"
   ]
  }
 ],
 "metadata": {
  "kernelspec": {
   "display_name": "Python 3",
   "language": "python",
   "name": "python3"
  },
  "language_info": {
   "codemirror_mode": {
    "name": "ipython",
    "version": 3
   },
   "file_extension": ".py",
   "mimetype": "text/x-python",
   "name": "python",
   "nbconvert_exporter": "python",
   "pygments_lexer": "ipython3",
   "version": "3.9.9"
  }
 },
 "nbformat": 4,
 "nbformat_minor": 5
}
