{
 "cells": [
  {
   "cell_type": "markdown",
   "id": "587dceb6",
   "metadata": {},
   "source": [
    "**Continuamos con métodos cerrados, ahora utilizamos Método de falsa posición**"
   ]
  },
  {
   "cell_type": "code",
   "execution_count": null,
   "id": "1727da91",
   "metadata": {},
   "outputs": [],
   "source": [
    "from pylab import *\n",
    "def falsa_posicion(a,b,f,error =  0.05):\n",
    "    m = (f(b)-f(a))/(b-a)\n",
    "    # a, b limites inferior y superior del intervalo\n",
    "    # función f(x). Resolvemos f(x) = 0\n",
    "    # máximo error permitido\n",
    "    xri = a - f(a)/m\n",
    "    i, xl, xr, xu, ea = 0, [a], [xri], [b], [100]\n",
    "    while ea[i] > error:\n",
    "        if f(xl[i])*f(xr[i])<0: # Valuamos el valor i en la lista, se inicia con 0\n",
    "            xl.append(xl[i])\n",
    "            xu.append(xr[i])\n",
    "        elif(f(xu[i])*f(xr[i])<0):\n",
    "            xl.append(xr[i])\n",
    "            xu.append(xu[i])\n",
    "        else:\n",
    "            return(xr)\n",
    "        \"Se redefinen las variables para acortar el rango, como ya hicimos un append hacemos uno nuevo\"\n",
    "        m = (f(xu[i+1])-f(xl[i+1]))/(xu[i+1]-xl[i+1])\n",
    "        xri = xl[i+1] - f(xl[i+1])/m\n",
    "        xr.append(xri)\n",
    "        ea.append(abs((xr[i+1]-xr[i])/xr[i+1])*100)\n",
    "        i+=1\n",
    "    return xl, xr, xu, ea"
   ]
  },
  {
   "cell_type": "code",
   "execution_count": 20,
   "id": "a8d4aea3",
   "metadata": {},
   "outputs": [],
   "source": [
    "def f(x):\n",
    "    return exp(-x)-x\n",
    "def df(x):\n",
    "    return -exp(-x)-1"
   ]
  },
  {
   "cell_type": "code",
   "execution_count": 7,
   "id": "4c10c11f",
   "metadata": {},
   "outputs": [],
   "source": [
    "xl, xr, xu, ea = falsa_posicion(0,1,f)"
   ]
  },
  {
   "cell_type": "code",
   "execution_count": 8,
   "id": "b2be3c87",
   "metadata": {},
   "outputs": [
    {
     "data": {
      "text/html": [
       "<div>\n",
       "<style scoped>\n",
       "    .dataframe tbody tr th:only-of-type {\n",
       "        vertical-align: middle;\n",
       "    }\n",
       "\n",
       "    .dataframe tbody tr th {\n",
       "        vertical-align: top;\n",
       "    }\n",
       "\n",
       "    .dataframe thead th {\n",
       "        text-align: right;\n",
       "    }\n",
       "</style>\n",
       "<table border=\"1\" class=\"dataframe\">\n",
       "  <thead>\n",
       "    <tr style=\"text-align: right;\">\n",
       "      <th></th>\n",
       "      <th>xL</th>\n",
       "      <th>xr</th>\n",
       "      <th>xu</th>\n",
       "      <th>error</th>\n",
       "    </tr>\n",
       "  </thead>\n",
       "  <tbody>\n",
       "    <tr>\n",
       "      <th>0</th>\n",
       "      <td>0</td>\n",
       "      <td>0.612700</td>\n",
       "      <td>1.000000</td>\n",
       "      <td>100.000000</td>\n",
       "    </tr>\n",
       "    <tr>\n",
       "      <th>1</th>\n",
       "      <td>0</td>\n",
       "      <td>0.572181</td>\n",
       "      <td>0.612700</td>\n",
       "      <td>7.081395</td>\n",
       "    </tr>\n",
       "    <tr>\n",
       "      <th>2</th>\n",
       "      <td>0</td>\n",
       "      <td>0.567703</td>\n",
       "      <td>0.572181</td>\n",
       "      <td>0.788827</td>\n",
       "    </tr>\n",
       "    <tr>\n",
       "      <th>3</th>\n",
       "      <td>0</td>\n",
       "      <td>0.567206</td>\n",
       "      <td>0.567703</td>\n",
       "      <td>0.087739</td>\n",
       "    </tr>\n",
       "    <tr>\n",
       "      <th>4</th>\n",
       "      <td>0</td>\n",
       "      <td>0.567150</td>\n",
       "      <td>0.567206</td>\n",
       "      <td>0.009757</td>\n",
       "    </tr>\n",
       "  </tbody>\n",
       "</table>\n",
       "</div>"
      ],
      "text/plain": [
       "   xL        xr        xu       error\n",
       "0   0  0.612700  1.000000  100.000000\n",
       "1   0  0.572181  0.612700    7.081395\n",
       "2   0  0.567703  0.572181    0.788827\n",
       "3   0  0.567206  0.567703    0.087739\n",
       "4   0  0.567150  0.567206    0.009757"
      ]
     },
     "execution_count": 8,
     "metadata": {},
     "output_type": "execute_result"
    }
   ],
   "source": [
    "import pandas as pd\n",
    "datos = {\"xL\": xl, \"xr\": xr, \"xu\": xu, \"error\": ea}\n",
    "pd.DataFrame(datos)"
   ]
  },
  {
   "cell_type": "markdown",
   "id": "bd203b93",
   "metadata": {},
   "source": [
    "**Métodos Abiertos** \n",
    "\n",
    " - No existe la seguiridad de convergencia, pero son muy rápidos.\n",
    " - Solo necesita un valor inicial, y cálcula la recta tangente a el hasta que corta en 0, itera hasta que se acerca al resultado real. (Dónde f(x) corta en 0)\n",
    " - Este método tiene una convergencia cuadrática, el porcentaje de error se reduce con un tamaño de paso ^2."
   ]
  },
  {
   "cell_type": "code",
   "execution_count": 29,
   "id": "986e3ee3",
   "metadata": {},
   "outputs": [
    {
     "data": {
      "text/html": [
       "<div>\n",
       "<style scoped>\n",
       "    .dataframe tbody tr th:only-of-type {\n",
       "        vertical-align: middle;\n",
       "    }\n",
       "\n",
       "    .dataframe tbody tr th {\n",
       "        vertical-align: top;\n",
       "    }\n",
       "\n",
       "    .dataframe thead th {\n",
       "        text-align: right;\n",
       "    }\n",
       "</style>\n",
       "<table border=\"1\" class=\"dataframe\">\n",
       "  <thead>\n",
       "    <tr style=\"text-align: right;\">\n",
       "      <th></th>\n",
       "      <th>XR</th>\n",
       "      <th>ERROR</th>\n",
       "    </tr>\n",
       "  </thead>\n",
       "  <tbody>\n",
       "    <tr>\n",
       "      <th>0</th>\n",
       "      <td>10.000000</td>\n",
       "      <td>1.000000e+02</td>\n",
       "    </tr>\n",
       "    <tr>\n",
       "      <th>1</th>\n",
       "      <td>0.000499</td>\n",
       "      <td>2.002397e+06</td>\n",
       "    </tr>\n",
       "    <tr>\n",
       "      <th>2</th>\n",
       "      <td>0.500125</td>\n",
       "      <td>9.990015e+01</td>\n",
       "    </tr>\n",
       "    <tr>\n",
       "      <th>3</th>\n",
       "      <td>0.566314</td>\n",
       "      <td>1.168774e+01</td>\n",
       "    </tr>\n",
       "    <tr>\n",
       "      <th>4</th>\n",
       "      <td>0.567143</td>\n",
       "      <td>1.461786e-01</td>\n",
       "    </tr>\n",
       "    <tr>\n",
       "      <th>5</th>\n",
       "      <td>0.567143</td>\n",
       "      <td>2.194089e-05</td>\n",
       "    </tr>\n",
       "  </tbody>\n",
       "</table>\n",
       "</div>"
      ],
      "text/plain": [
       "          XR         ERROR\n",
       "0  10.000000  1.000000e+02\n",
       "1   0.000499  2.002397e+06\n",
       "2   0.500125  9.990015e+01\n",
       "3   0.566314  1.168774e+01\n",
       "4   0.567143  1.461786e-01\n",
       "5   0.567143  2.194089e-05"
      ]
     },
     "execution_count": 29,
     "metadata": {},
     "output_type": "execute_result"
    }
   ],
   "source": [
    "def NewtonR(x0,f,df,error = 0.05):\n",
    "    i, xr, ea = 0, [x0], [100]\n",
    "    while ea[i] > error:\n",
    "        xr.append(xr[i]-f(xr[i])/df(xr[i]))\n",
    "        i+= 1\n",
    "        ea.append(abs((xr[i]-xr[i-1])/xr[i])*100)\n",
    "    return xr, ea\n",
    "xr, ea = NewtonR(10,f,df)\n",
    "res = {\"XR\" : xr, \"ERROR\" : ea}\n",
    "pd.DataFrame(res)"
   ]
  }
 ],
 "metadata": {
  "kernelspec": {
   "display_name": "Python 3",
   "language": "python",
   "name": "python3"
  },
  "language_info": {
   "codemirror_mode": {
    "name": "ipython",
    "version": 3
   },
   "file_extension": ".py",
   "mimetype": "text/x-python",
   "name": "python",
   "nbconvert_exporter": "python",
   "pygments_lexer": "ipython3",
   "version": "3.9.9"
  }
 },
 "nbformat": 4,
 "nbformat_minor": 5
}
